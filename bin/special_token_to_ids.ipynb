{
 "cells": [
  {
   "cell_type": "code",
   "execution_count": 1,
   "metadata": {},
   "outputs": [
    {
     "name": "stderr",
     "output_type": "stream",
     "text": [
      "c:\\Users\\white\\anaconda3\\envs\\HRI-py310\\lib\\site-packages\\tqdm\\auto.py:21: TqdmWarning: IProgress not found. Please update jupyter and ipywidgets. See https://ipywidgets.readthedocs.io/en/stable/user_install.html\n",
      "  from .autonotebook import tqdm as notebook_tqdm\n",
      "Special tokens have been added in the vocabulary, make sure the associated word embeddings are fine-tuned or trained.\n"
     ]
    }
   ],
   "source": [
    "import os\n",
    "\n",
    "from transformers import AutoTokenizer\n",
    "from collections import Counter\n",
    "from datasets import load_dataset\n",
    "\n",
    "tokenizer = AutoTokenizer.from_pretrained(\"meta-llama/Meta-Llama-3-8B\")"
   ]
  },
  {
   "cell_type": "code",
   "execution_count": 2,
   "metadata": {},
   "outputs": [],
   "source": [
    "allowed_token_id = set()"
   ]
  },
  {
   "cell_type": "code",
   "execution_count": 3,
   "metadata": {},
   "outputs": [],
   "source": [
    "# punctuation, whitespace, so on\n",
    "allowed_token_id = allowed_token_id.union(set(range(0, 256)))"
   ]
  },
  {
   "cell_type": "code",
   "execution_count": 4,
   "metadata": {},
   "outputs": [],
   "source": [
    "# Special tokens\n",
    "allowed_token_id = allowed_token_id.union(set(range(128000, 128256)))"
   ]
  },
  {
   "cell_type": "code",
   "execution_count": 5,
   "metadata": {},
   "outputs": [],
   "source": [
    "# include top_N\n",
    "import pickle\n",
    "\n",
    "with open (\"top_1000_tokens.pkl\", \"rb\") as f:\n",
    "    top_N = pickle.load(f)\n",
    "    allowed_token_id = allowed_token_id.union(set(top_N))"
   ]
  },
  {
   "cell_type": "code",
   "execution_count": 6,
   "metadata": {},
   "outputs": [],
   "source": [
    "# save the allowed_token_id\n",
    "with open(\"allowed_token_id.pkl\", \"wb\") as f:\n",
    "    pickle.dump(allowed_token_id, f)"
   ]
  },
  {
   "cell_type": "markdown",
   "metadata": {},
   "source": [
    "### Add target token"
   ]
  },
  {
   "cell_type": "code",
   "execution_count": 7,
   "metadata": {},
   "outputs": [],
   "source": [
    "import pandas as pd\n",
    "\n",
    "A1 = pd.read_csv(\"CEFR/A1.csv\")\n",
    "A2 = pd.read_csv(\"CEFR/A2.csv\")\n",
    "\n",
    "A1_set = set(A1[\"word\"].values)\n",
    "A2_set = set(A2[\"word\"].values)"
   ]
  },
  {
   "cell_type": "code",
   "execution_count": 8,
   "metadata": {},
   "outputs": [],
   "source": [
    "target_base = A1_set.union(A2_set)\n",
    "capital = set([x.capitalize() for x in target_base])\n",
    "target_with_punctuation = set(x + p for x in target_base for p in \".,!? \\t\\n\")"
   ]
  },
  {
   "cell_type": "code",
   "execution_count": 9,
   "metadata": {},
   "outputs": [],
   "source": [
    "target = target_base.union(capital).union(target_with_punctuation)"
   ]
  },
  {
   "cell_type": "code",
   "execution_count": 10,
   "metadata": {},
   "outputs": [
    {
     "name": "stderr",
     "output_type": "stream",
     "text": [
      "Special tokens have been added in the vocabulary, make sure the associated word embeddings are fine-tuned or trained.\n"
     ]
    }
   ],
   "source": [
    "import os\n",
    "from transformers import AutoTokenizer\n",
    "\n",
    "# 토크나이저 로드\n",
    "tokenizer = AutoTokenizer.from_pretrained(\"meta-llama/Meta-Llama-3-8B\")\n",
    "\n",
    "\n",
    "# 토크나이징 후 토큰 ID를 저장할 집합\n",
    "token_id_set = set()\n",
    "\n",
    "# 각 요소를 토크나이징하고 토큰 ID를 집합에 추가\n",
    "for item in target:\n",
    "    tokens = tokenizer.tokenize(item)\n",
    "    token_ids = tokenizer.convert_tokens_to_ids(tokens)\n",
    "    token_id_set.update(token_ids)"
   ]
  },
  {
   "cell_type": "code",
   "execution_count": 11,
   "metadata": {},
   "outputs": [],
   "source": [
    "with open(\"target_token_id.pkl\", \"wb\") as f:\n",
    "    pickle.dump(token_id_set, f)"
   ]
  },
  {
   "cell_type": "markdown",
   "metadata": {},
   "source": [
    "### 통합"
   ]
  },
  {
   "cell_type": "code",
   "execution_count": 13,
   "metadata": {},
   "outputs": [],
   "source": [
    "final_target = allowed_token_id.union(token_id_set)\n",
    "with open (\"final_target.pkl\", \"wb\") as f:\n",
    "    pickle.dump(final_target, f)"
   ]
  }
 ],
 "metadata": {
  "kernelspec": {
   "display_name": "HRI-py310",
   "language": "python",
   "name": "python3"
  },
  "language_info": {
   "codemirror_mode": {
    "name": "ipython",
    "version": 3
   },
   "file_extension": ".py",
   "mimetype": "text/x-python",
   "name": "python",
   "nbconvert_exporter": "python",
   "pygments_lexer": "ipython3",
   "version": "3.10.14"
  }
 },
 "nbformat": 4,
 "nbformat_minor": 2
}
