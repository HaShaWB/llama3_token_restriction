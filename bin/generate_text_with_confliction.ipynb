{
 "cells": [
  {
   "cell_type": "code",
   "execution_count": null,
   "metadata": {},
   "outputs": [],
   "source": [
    "import os, pickle\n",
    "import torch\n",
    "from transformers import AutoModelForCausalLM, AutoTokenizer, LogitsProcessorList, LogitsProcessor\n",
    "from transformers import BitsAndBytesConfig\n",
    "\n",
    "quantization_config = BitsAndBytesConfig(\n",
    "    load_in_8bit=True  # 8비트 양자화 설정\n",
    ")\n",
    "\n",
    "# 모델과 토크나이저 로드\n",
    "model_name = 'meta-llama/Meta-Llama-3-8B-Instruct'\n",
    "model = AutoModelForCausalLM.from_pretrained(model_name, \n",
    "                                             load_in_8bit=True, \n",
    "                                             quantization_config=quantization_config)\n",
    "tokenizer = AutoTokenizer.from_pretrained(model_name)\n",
    "\n",
    "\n",
    "\n",
    "device = torch.device(\"cuda\" if torch.cuda.is_available() else \"cpu\")\n",
    "# 사용할 어휘 집합 정의\n",
    "\n",
    "\n",
    "with open('final_target.pkl', 'rb') as f:\n",
    "    final_target = pickle.load(f)\n",
    "\n",
    "allowed_token_ids = list(final_target)\n",
    "allowed_token_ids"
   ]
  },
  {
   "cell_type": "code",
   "execution_count": null,
   "metadata": {},
   "outputs": [],
   "source": [
    "\n",
    "class CustomLogitsProcessor(LogitsProcessor):\n",
    "    def __call__(self, input_ids, scores):\n",
    "        mask = torch.full_like(scores, 1)\n",
    "        mask[:, allowed_token_ids] = 1\n",
    "        return scores * mask \n",
    "\n",
    "# 텍스트 생성 함수\n",
    "def generate_text(input_text, max_length=300):\n",
    "    input_ids = tokenizer(input_text, return_tensors='pt').input_ids.to(device)\n",
    "    logits_processor = LogitsProcessorList([CustomLogitsProcessor()])\n",
    "    output = model.generate(input_ids, max_length=max_length, logits_processor=logits_processor, temperature = 0.3, )\n",
    "    return tokenizer.decode(output[0], skip_special_tokens=True)\n"
   ]
  },
  {
   "cell_type": "code",
   "execution_count": null,
   "metadata": {},
   "outputs": [],
   "source": [
    "input_text = \"\"\"\n",
    "Explaination of the contents and significance of the theory of relativity : \n",
    "\n",
    "\"\"\"\n",
    "\n",
    "alpha = generate_text(input_text)\n",
    "\n",
    "print(alpha)"
   ]
  },
  {
   "cell_type": "code",
   "execution_count": null,
   "metadata": {},
   "outputs": [],
   "source": []
  }
 ],
 "metadata": {
  "kernelspec": {
   "display_name": "HRI-py310",
   "language": "python",
   "name": "python3"
  },
  "language_info": {
   "codemirror_mode": {
    "name": "ipython",
    "version": 3
   },
   "file_extension": ".py",
   "mimetype": "text/x-python",
   "name": "python",
   "nbconvert_exporter": "python",
   "pygments_lexer": "ipython3",
   "version": "3.10.14"
  }
 },
 "nbformat": 4,
 "nbformat_minor": 2
}
